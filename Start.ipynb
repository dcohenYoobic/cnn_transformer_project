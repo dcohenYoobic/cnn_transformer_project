{
 "cells": [
  {
   "cell_type": "code",
   "execution_count": 2,
   "metadata": {},
   "outputs": [
    {
     "name": "stdout",
     "output_type": "stream",
     "text": [
      "Creating project run. Total upload size: 81.5KiB\n",
      "Syncing code ...\n",
      "\n",
      "JOB NAME\n",
      "----------------------------\n",
      "evamarciano1/projects/jadd/1\n",
      "\n",
      "URL to job: https://www.floydhub.com/evamarciano1/projects/jadd/1\n",
      "\n",
      "DATANAME                             MOUNTING DIRECTORY\n",
      "-----------------------------------  --------------------\n",
      "evamarciano1/datasets/jadore_data/1  /data\n",
      "\n",
      "[!] DEPRECATION NOTICE\n",
      "Jupyter mode will no longer be supported after September 15th.\n",
      "Please migrate your projects to use Workspaces: https://docs.floydhub.com/guides/workspace/.\n"
     ]
    }
   ],
   "source": [
    "!floyd run --mode jupyter --data evamarciano1/datasets/jadore_data/1:data  --gpu"
   ]
  },
  {
   "cell_type": "code",
   "execution_count": 1,
   "metadata": {},
   "outputs": [],
   "source": [
    "#! python preprocess.py -lang_src de -lang_trg en -share_vocab -save_data m30k_deen_shr.pkl"
   ]
  },
  {
   "cell_type": "code",
   "execution_count": 2,
   "metadata": {},
   "outputs": [],
   "source": [
    "#! pip install dill \n",
    "#! pip install torch==1.5.1+cu92 torchvision==0.6.1+cu92 -f https://download.pytorch.org/whl/torch_stable.html\n",
    "#! pip install torchtext==0.3.1"
   ]
  },
  {
   "cell_type": "code",
   "execution_count": 3,
   "metadata": {},
   "outputs": [],
   "source": [
    "#! pip install --upgrade pip"
   ]
  },
  {
   "cell_type": "code",
   "execution_count": 4,
   "metadata": {},
   "outputs": [],
   "source": [
    "#! python -m spacy download en\n",
    "#! python -m spacy download de"
   ]
  },
  {
   "cell_type": "code",
   "execution_count": 1,
   "metadata": {},
   "outputs": [
    {
     "name": "stdout",
     "output_type": "stream",
     "text": [
      "C:\\Users\\marci\\Anaconda3\\lib\\platform.py\n",
      "Namespace(data_src=None, data_trg=None, keep_case=False, lang_src='de', lang_trg='en', max_len=100, min_word_count=3, save_data='m30k_deen_shr.pkl', share_vocab=True)\n",
      "[Info] Get source language vocabulary size: 5375\n",
      "[Info] Get target language vocabulary size: 4556\n",
      "[Info] Merging two vocabulary ...\n",
      "[Info] Get merged vocabulary size: 9521\n",
      "[Info] Dumping the processed data to pickle file m30k_deen_shr.pkl\n"
     ]
    }
   ],
   "source": [
    "! python preprocess.py -lang_src de -lang_trg en -share_vocab -save_data m30k_deen_shr.pkl"
   ]
  },
  {
   "cell_type": "code",
   "execution_count": 2,
   "metadata": {},
   "outputs": [
    {
     "name": "stdout",
     "output_type": "stream",
     "text": [
      "C:\\Users\\marci\\Anaconda3\\lib\\platform.py\n",
      "Namespace(batch_size=256, cuda=True, d_inner_hid=2048, d_k=64, d_model=512, d_v=64, d_word_vec=512, data_pkl='m30k_deen_shr.pkl', dropout=0.1, embs_share_weight=True, epoch=200, label_smoothing=True, log='m30k_deen_shr', max_token_seq_len=100, n_head=8, n_layers=6, n_warmup_steps=128000, no_cuda=False, proj_share_weight=True, save_mode='best', save_model='trained', src_pad_idx=1, src_vocab_size=9521, train_path=None, trg_pad_idx=1, trg_vocab_size=9521, val_path=None)\n"
     ]
    },
    {
     "name": "stderr",
     "output_type": "stream",
     "text": [
      "Traceback (most recent call last):\n",
      "  File \"train.py\", line 337, in <module>\n",
      "    main()\n",
      "  File \"train.py\", line 266, in main\n",
      "    dropout=opt.dropout).to(device)\n",
      "  File \"C:\\Users\\marci\\Anaconda3\\lib\\site-packages\\torch\\nn\\modules\\module.py\", line 443, in to\n",
      "    return self._apply(convert)\n",
      "  File \"C:\\Users\\marci\\Anaconda3\\lib\\site-packages\\torch\\nn\\modules\\module.py\", line 203, in _apply\n",
      "    module._apply(fn)\n",
      "  File \"C:\\Users\\marci\\Anaconda3\\lib\\site-packages\\torch\\nn\\modules\\module.py\", line 203, in _apply\n",
      "    module._apply(fn)\n",
      "  File \"C:\\Users\\marci\\Anaconda3\\lib\\site-packages\\torch\\nn\\modules\\module.py\", line 203, in _apply\n",
      "    module._apply(fn)\n",
      "  [Previous line repeated 2 more times]\n",
      "  File \"C:\\Users\\marci\\Anaconda3\\lib\\site-packages\\torch\\nn\\modules\\module.py\", line 225, in _apply\n",
      "    param_applied = fn(param)\n",
      "  File \"C:\\Users\\marci\\Anaconda3\\lib\\site-packages\\torch\\nn\\modules\\module.py\", line 441, in convert\n",
      "    return t.to(device, dtype if t.is_floating_point() else None, non_blocking)\n",
      "RuntimeError: CUDA out of memory. Tried to allocate 20.00 MiB (GPU 0; 2.00 GiB total capacity; 1.40 GiB already allocated; 16.88 MiB free; 1.40 GiB reserved in total by PyTorch)\n"
     ]
    }
   ],
   "source": [
    "! python train.py -data_pkl m30k_deen_shr.pkl -log m30k_deen_shr -embs_share_weight -proj_share_weight -label_smoothing -save_model trained -b 256 -warmup 128000 -epoch 200"
   ]
  },
  {
   "cell_type": "code",
   "execution_count": null,
   "metadata": {},
   "outputs": [],
   "source": []
  }
 ],
 "metadata": {
  "kernelspec": {
   "display_name": "Python 3",
   "language": "python",
   "name": "python3"
  },
  "language_info": {
   "codemirror_mode": {
    "name": "ipython",
    "version": 3
   },
   "file_extension": ".py",
   "mimetype": "text/x-python",
   "name": "python",
   "nbconvert_exporter": "python",
   "pygments_lexer": "ipython3",
   "version": "3.7.1"
  }
 },
 "nbformat": 4,
 "nbformat_minor": 2
}
